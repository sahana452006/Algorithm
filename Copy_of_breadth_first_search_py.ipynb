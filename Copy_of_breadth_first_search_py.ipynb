{
  "nbformat": 4,
  "nbformat_minor": 0,
  "metadata": {
    "colab": {
      "provenance": [],
      "authorship_tag": "ABX9TyMiiBDUfTDfvNu4yt5Gtw9v",
      "include_colab_link": true
    },
    "kernelspec": {
      "name": "python3",
      "display_name": "Python 3"
    },
    "language_info": {
      "name": "python"
    }
  },
  "cells": [
    {
      "cell_type": "markdown",
      "metadata": {
        "id": "view-in-github",
        "colab_type": "text"
      },
      "source": [
        "<a href=\"https://colab.research.google.com/github/sahana452006/Algorithm/blob/main/Copy_of_breadth_first_search_py.ipynb\" target=\"_parent\"><img src=\"https://colab.research.google.com/assets/colab-badge.svg\" alt=\"Open In Colab\"/></a>"
      ]
    },
    {
      "cell_type": "code",
      "source": [
        "from collections import defaultdict\n",
        "class Graph:\n",
        "  def __init__(self):\n",
        "    self.graph = defaultdict(list)\n",
        "  def addEdge(self, u, v):\n",
        "    self.graph[u].append(v)\n",
        "  def BFS(self, s):\n",
        "    visited =[False]*(max(self.graph)+1)\n",
        "    queue=[]\n",
        "    queue.append(s)\n",
        "    visited[s]=True\n",
        "    while queue:\n",
        "      s=queue.pop(0)\n",
        "      print(s, end=\" \")\n",
        "      for i in self.graph[s]:\n",
        "        if not visited[i]:\n",
        "          queue.append(i)\n",
        "          visited[i]=True\n",
        "if __name__==\"__main__\":\n",
        "  g=Graph()\n",
        "  g.addEdge(0,1)\n",
        "  g.addEdge(0,2)\n",
        "  g.addEdge(1,2)\n",
        "  g.addEdge(2,0)\n",
        "  g.addEdge(2,3)\n",
        "  g.addEdge(3,3)\n",
        "  print(\"Following is Breadth First Traversal\"\"(starting from vertex 2)\")\n",
        "  g.BFS(2)\n"
      ],
      "metadata": {
        "colab": {
          "base_uri": "https://localhost:8080/"
        },
        "id": "q5-sCOdi_OW8",
        "outputId": "f4f7b26c-7c15-4ddb-b319-4855e3389b09"
      },
      "execution_count": null,
      "outputs": [
        {
          "output_type": "stream",
          "name": "stdout",
          "text": [
            "Following is Breadth First Traversal(starting from vertex 2)\n",
            "2 0 3 1 "
          ]
        }
      ]
    }
  ]
}
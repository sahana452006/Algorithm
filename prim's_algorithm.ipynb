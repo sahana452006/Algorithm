{
  "nbformat": 4,
  "nbformat_minor": 0,
  "metadata": {
    "colab": {
      "provenance": [],
      "authorship_tag": "ABX9TyO6Rvct4G1LU3zCWtw5guXr",
      "include_colab_link": true
    },
    "kernelspec": {
      "name": "python3",
      "display_name": "Python 3"
    },
    "language_info": {
      "name": "python"
    }
  },
  "cells": [
    {
      "cell_type": "markdown",
      "metadata": {
        "id": "view-in-github",
        "colab_type": "text"
      },
      "source": [
        "<a href=\"https://colab.research.google.com/github/sahana452006/Algorithm/blob/main/prim's_algorithm.ipynb\" target=\"_parent\"><img src=\"https://colab.research.google.com/assets/colab-badge.svg\" alt=\"Open In Colab\"/></a>"
      ]
    },
    {
      "cell_type": "code",
      "execution_count": 1,
      "metadata": {
        "colab": {
          "base_uri": "https://localhost:8080/"
        },
        "id": "MavAGsOlIR5M",
        "outputId": "c4c887f5-4100-4dc5-8481-b3c7c05512f0"
      },
      "outputs": [
        {
          "output_type": "stream",
          "name": "stdout",
          "text": [
            "Edges in the Minimum Spanning Tree:\n",
            "A - B : 2\n",
            "B - C : 1\n",
            "B - D : 1\n",
            "D - E : 1\n",
            "\n",
            "Total cost of Minimum Spanning Tree: 5\n"
          ]
        }
      ],
      "source": [
        "import heapq\n",
        "def prim(graph, start):\n",
        "    visited = set()\n",
        "    min_heap = [(0, start, None)]\n",
        "    mst = []\n",
        "    total_cost = 0\n",
        "\n",
        "    while min_heap:\n",
        "        cost, current, parent = heapq.heappop(min_heap)\n",
        "\n",
        "        if current in visited:\n",
        "            continue\n",
        "\n",
        "        visited.add(current)\n",
        "        if parent is not None:\n",
        "            mst.append((parent, current, cost))\n",
        "            total_cost += cost\n",
        "\n",
        "        for neighbor, weight in graph[current]:\n",
        "            if neighbor not in visited:\n",
        "                heapq.heappush(min_heap, (weight, neighbor, current))\n",
        "\n",
        "    return mst, total_cost\n",
        "if __name__ == \"__main__\":\n",
        "    graph = {'A': [('B', 2), ('C', 3)],\n",
        "        'B': [('A', 2), ('C', 1), ('D', 1)],\n",
        "        'C': [('A', 3), ('B', 1), ('D', 4), ('E', 5)],\n",
        "        'D': [('B', 1), ('C', 4), ('E', 1)],\n",
        "        'E': [('C', 5), ('D', 1)]}\n",
        "\n",
        "    start_vertex = 'A'\n",
        "    mst, total_cost = prim(graph, start_vertex)\n",
        "    print(\"Edges in the Minimum Spanning Tree:\")\n",
        "    for u, v, weight in mst:\n",
        "        print(f\"{u} - {v} : {weight}\")\n",
        "    print(f\"\\nTotal cost of Minimum Spanning Tree: {total_cost}\")\n"
      ]
    }
  ]
}
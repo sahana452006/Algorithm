{
  "nbformat": 4,
  "nbformat_minor": 0,
  "metadata": {
    "colab": {
      "provenance": [],
      "authorship_tag": "ABX9TyOdSb4cWy2rhuNZ1OQDC5Sy",
      "include_colab_link": true
    },
    "kernelspec": {
      "name": "python3",
      "display_name": "Python 3"
    },
    "language_info": {
      "name": "python"
    }
  },
  "cells": [
    {
      "cell_type": "markdown",
      "metadata": {
        "id": "view-in-github",
        "colab_type": "text"
      },
      "source": [
        "<a href=\"https://colab.research.google.com/github/sahana452006/Algorithm/blob/main/divide_and_conquer_technique.ipynb\" target=\"_parent\"><img src=\"https://colab.research.google.com/assets/colab-badge.svg\" alt=\"Open In Colab\"/></a>"
      ]
    },
    {
      "cell_type": "code",
      "execution_count": 1,
      "metadata": {
        "colab": {
          "base_uri": "https://localhost:8080/"
        },
        "id": "bDPqoX6-Q4qe",
        "outputId": "da2a7de6-76d8-48cf-b97d-e65fc7e60d65"
      },
      "outputs": [
        {
          "output_type": "stream",
          "name": "stdout",
          "text": [
            "List: [12, 3, 45, 7, 89, 23, 5, 67]\n",
            "Maximum number: 89\n",
            "Minimum number: 3\n"
          ]
        }
      ],
      "source": [
        "def find_max_min(arr, low, high):\n",
        "    if low == high:\n",
        "        return arr[low], arr[low]\n",
        "    if high == low + 1:\n",
        "        if arr[low] > arr[high]:\n",
        "            return arr[low], arr[high]\n",
        "        else:\n",
        "            return arr[high], arr[low]\n",
        "    mid = (low + high) // 2\n",
        "    max1, min1 = find_max_min(arr, low, mid)\n",
        "    max2, min2 = find_max_min(arr, mid + 1, high)\n",
        "    return max(max1, max2), min(min1, min2)\n",
        "def main():\n",
        "    arr = [12, 3, 45, 7, 89, 23, 5, 67]\n",
        "    if not arr:\n",
        "        print(\"The list is empty.\")\n",
        "        return\n",
        "    maximum, minimum = find_max_min(arr, 0, len(arr) - 1)\n",
        "    print(\"List:\", arr)\n",
        "    print(\"Maximum number:\", maximum)\n",
        "    print(\"Minimum number:\", minimum)\n",
        "if __name__ == \"__main__\":\n",
        "    main()\n"
      ]
    }
  ]
}
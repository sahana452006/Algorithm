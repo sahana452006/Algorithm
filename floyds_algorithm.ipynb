{
  "nbformat": 4,
  "nbformat_minor": 0,
  "metadata": {
    "colab": {
      "provenance": [],
      "authorship_tag": "ABX9TyOFWfOac66Tl6rx4nYOqhlt",
      "include_colab_link": true
    },
    "kernelspec": {
      "name": "python3",
      "display_name": "Python 3"
    },
    "language_info": {
      "name": "python"
    }
  },
  "cells": [
    {
      "cell_type": "markdown",
      "metadata": {
        "id": "view-in-github",
        "colab_type": "text"
      },
      "source": [
        "<a href=\"https://colab.research.google.com/github/sahana452006/Algorithm/blob/main/floyds_algorithm.ipynb\" target=\"_parent\"><img src=\"https://colab.research.google.com/assets/colab-badge.svg\" alt=\"Open In Colab\"/></a>"
      ]
    },
    {
      "cell_type": "code",
      "execution_count": 1,
      "metadata": {
        "colab": {
          "base_uri": "https://localhost:8080/"
        },
        "id": "jnwrpLNhJCvO",
        "outputId": "f25b03f1-2dec-4d56-d1a9-0923a860932d"
      },
      "outputs": [
        {
          "output_type": "stream",
          "name": "stdout",
          "text": [
            "Shortest distances between every pair of vertices:\n",
            "0       3       7       5       \n",
            "2       0       6       4       \n",
            "3       1       0       5       \n",
            "5       3       2       0       \n"
          ]
        }
      ],
      "source": [
        "def floyd_warshall(graph):\n",
        "    n = len(graph)\n",
        "    dist = [row[:] for row in graph]\n",
        "    for k in range(n):\n",
        "        for i in range(n):\n",
        "            for j in range(n):\n",
        "                if dist[i][k] + dist[k][j] < dist[i][j]:\n",
        "                    dist[i][j] = dist[i][k] + dist[k][j]\n",
        "    return dist\n",
        "def print_solution(dist):\n",
        "    n = len(dist)\n",
        "    print(\"Shortest distances between every pair of vertices:\")\n",
        "    for i in range(n):\n",
        "        for j in range(n):\n",
        "            if dist[i][j] == float('inf'):\n",
        "                print(\"INF\".ljust(7), end=\" \")\n",
        "            else:\n",
        "                print(str(dist[i][j]).ljust(7), end=\" \")\n",
        "        print()\n",
        "def main():\n",
        "    INF = float('inf')\n",
        "    graph = [[0,   3,   INF, 5],\n",
        "        [2,   0,   INF, 4],\n",
        "        [INF, 1,   0,   INF],\n",
        "        [INF, INF, 2,   0]]\n",
        "    result = floyd_warshall(graph)\n",
        "    print_solution(result)\n",
        "if __name__ == \"__main__\":\n",
        "    main()\n"
      ]
    }
  ]
}
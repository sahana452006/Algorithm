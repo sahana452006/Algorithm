{
  "nbformat": 4,
  "nbformat_minor": 0,
  "metadata": {
    "colab": {
      "provenance": [],
      "authorship_tag": "ABX9TyMBhayaspOer+S2GlEk9UoD",
      "include_colab_link": true
    },
    "kernelspec": {
      "name": "python3",
      "display_name": "Python 3"
    },
    "language_info": {
      "name": "python"
    }
  },
  "cells": [
    {
      "cell_type": "markdown",
      "metadata": {
        "id": "view-in-github",
        "colab_type": "text"
      },
      "source": [
        "<a href=\"https://colab.research.google.com/github/sahana452006/Algorithm/blob/main/approximation_algorithm.ipynb\" target=\"_parent\"><img src=\"https://colab.research.google.com/assets/colab-badge.svg\" alt=\"Open In Colab\"/></a>"
      ]
    },
    {
      "cell_type": "code",
      "execution_count": 1,
      "metadata": {
        "colab": {
          "base_uri": "https://localhost:8080/"
        },
        "id": "vUrbU20xFLii",
        "outputId": "3ae8b596-b8fd-4afc-de22-06e379947ad5"
      },
      "outputs": [
        {
          "output_type": "stream",
          "name": "stdout",
          "text": [
            "Optimal Path: [0, 2, 4, 3, 1, 0]\n",
            "Optimal Cost: 19\n",
            "Approximate Path (Nearest Neighbor): [0, 1, 4, 3, 2, 0]\n",
            "Approximate Cost: 35\n",
            "Approximation Error: 84.21%\n"
          ]
        }
      ],
      "source": [
        "import itertools\n",
        "import numpy as np\n",
        "\n",
        "def tsp_brute_force(dist_matrix):\n",
        "    n = len(dist_matrix)\n",
        "    min_cost = float('inf')\n",
        "    best_path = []\n",
        "    for perm in itertools.permutations(range(1, n)):\n",
        "        path = [0] + list(perm) + [0]\n",
        "        cost = sum(dist_matrix[path[i], path[i + 1]] for i in range(n))\n",
        "        if cost < min_cost:\n",
        "            min_cost = cost\n",
        "            best_path = path\n",
        "    return best_path, min_cost\n",
        "\n",
        "def tsp_nearest_neighbor(dist_matrix, start=0):\n",
        "    n = len(dist_matrix)\n",
        "    visited = [False] * n\n",
        "    path = [start]\n",
        "    visited[start] = True\n",
        "    cost = 0\n",
        "    current = start\n",
        "    for _ in range(n - 1):\n",
        "        next_city = min(\n",
        "            (j for j in range(n) if not visited[j]),\n",
        "            key=lambda j: dist_matrix[current][j]\n",
        "        )\n",
        "        cost += dist_matrix[current][next_city]\n",
        "        visited[next_city] = True\n",
        "        path.append(next_city)\n",
        "        current = next_city\n",
        "    cost += dist_matrix[current][start]\n",
        "    path.append(start)\n",
        "    return path, cost\n",
        "\n",
        "def main():\n",
        "    # Define distance matrix for 5 cities\n",
        "    dist_matrix = np.array([\n",
        "        [0, 2, 9, 10, 7],\n",
        "        [1, 0, 6, 4, 3],\n",
        "        [15, 7, 0, 8, 3],\n",
        "        [6, 3, 12, 0, 2],\n",
        "        [10, 4, 8, 3, 0]\n",
        "    ])\n",
        "\n",
        "    # Solve using brute force\n",
        "    opt_path, opt_cost = tsp_brute_force(dist_matrix)\n",
        "\n",
        "    # Solve using nearest neighbor heuristic\n",
        "    approx_path, approx_cost = tsp_nearest_neighbor(dist_matrix)\n",
        "\n",
        "    # Compute approximation error\n",
        "    error_percentage = ((approx_cost - opt_cost) / opt_cost) * 100\n",
        "\n",
        "    # Print results\n",
        "    print(\"Optimal Path:\", opt_path)\n",
        "    print(\"Optimal Cost:\", opt_cost)\n",
        "    print(\"Approximate Path (Nearest Neighbor):\", approx_path)\n",
        "    print(\"Approximate Cost:\", approx_cost)\n",
        "    print(f\"Approximation Error: {error_percentage:.2f}%\")\n",
        "\n",
        "if __name__ == \"__main__\":\n",
        "    main()\n"
      ]
    }
  ]
}
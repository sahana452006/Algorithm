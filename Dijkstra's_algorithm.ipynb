{
  "nbformat": 4,
  "nbformat_minor": 0,
  "metadata": {
    "colab": {
      "provenance": [],
      "authorship_tag": "ABX9TyNF82EWZ4xgUKtsHMODQ/4G",
      "include_colab_link": true
    },
    "kernelspec": {
      "name": "python3",
      "display_name": "Python 3"
    },
    "language_info": {
      "name": "python"
    }
  },
  "cells": [
    {
      "cell_type": "markdown",
      "metadata": {
        "id": "view-in-github",
        "colab_type": "text"
      },
      "source": [
        "<a href=\"https://colab.research.google.com/github/sahana452006/Algorithm/blob/main/Dijkstra's_algorithm.ipynb\" target=\"_parent\"><img src=\"https://colab.research.google.com/assets/colab-badge.svg\" alt=\"Open In Colab\"/></a>"
      ]
    },
    {
      "cell_type": "code",
      "execution_count": 1,
      "metadata": {
        "colab": {
          "base_uri": "https://localhost:8080/"
        },
        "id": "RE4g7FXUG7wP",
        "outputId": "fd7f024f-7246-417b-85c7-e0129c1fe83d"
      },
      "outputs": [
        {
          "output_type": "stream",
          "name": "stdout",
          "text": [
            "Shortest paths from vertex A:\n",
            "To A: 0\n",
            "To B: 1\n",
            "To C: 3\n",
            "To D: 4\n"
          ]
        }
      ],
      "source": [
        "import heapq\n",
        "def dijkstra(graph, start):\n",
        "    distances = {vertex: float('inf') for vertex in graph}\n",
        "    distances[start] = 0\n",
        "\n",
        "    priority_queue = [(0, start)]\n",
        "\n",
        "    while priority_queue:\n",
        "        current_distance, current_vertex = heapq.heappop(priority_queue)\n",
        "\n",
        "        if current_distance > distances[current_vertex]:\n",
        "            continue\n",
        "\n",
        "        for neighbor, weight in graph[current_vertex]:\n",
        "            distance = current_distance + weight\n",
        "\n",
        "            if distance < distances[neighbor]:\n",
        "                distances[neighbor] = distance\n",
        "                heapq.heappush(priority_queue, (distance, neighbor))\n",
        "\n",
        "    return distances\n",
        "if __name__ == \"__main__\":\n",
        "    graph = {'A': [('B', 1), ('C', 4)],\n",
        "        'B': [('A', 1), ('C', 2), ('D', 5)],\n",
        "        'C': [('A', 4), ('B', 2), ('D', 1)],\n",
        "        'D': [('B', 5), ('C', 1)]}\n",
        "    start_vertex = 'A'\n",
        "    shortest_paths = dijkstra(graph, start_vertex)\n",
        "    print(f\"Shortest paths from vertex {start_vertex}:\")\n",
        "    for vertex, distance in shortest_paths.items():\n",
        "        print(f\"To {vertex}: {distance}\")\n"
      ]
    }
  ]
}
{
  "nbformat": 4,
  "nbformat_minor": 0,
  "metadata": {
    "colab": {
      "provenance": [],
      "authorship_tag": "ABX9TyOxEEysCJ1NRAKb3nvN5cUO",
      "include_colab_link": true
    },
    "kernelspec": {
      "name": "python3",
      "display_name": "Python 3"
    },
    "language_info": {
      "name": "python"
    }
  },
  "cells": [
    {
      "cell_type": "markdown",
      "metadata": {
        "id": "view-in-github",
        "colab_type": "text"
      },
      "source": [
        "<a href=\"https://colab.research.google.com/github/sahana452006/Algorithm/blob/main/randomized_algorithm.ipynb\" target=\"_parent\"><img src=\"https://colab.research.google.com/assets/colab-badge.svg\" alt=\"Open In Colab\"/></a>"
      ]
    },
    {
      "cell_type": "code",
      "execution_count": 1,
      "metadata": {
        "colab": {
          "base_uri": "https://localhost:8080/"
        },
        "id": "vaXb2C48Ge4D",
        "outputId": "d4226a43-d7ba-4d18-c680-99de7fabb582"
      },
      "outputs": [
        {
          "output_type": "stream",
          "name": "stdout",
          "text": [
            "The 3rd smallest element is 5\n"
          ]
        }
      ],
      "source": [
        "import random\n",
        "def randomized_partition(arr, low, high):\n",
        "    pivot_index = random.randint(low, high)\n",
        "    arr[high], arr[pivot_index] = arr[pivot_index], arr[high]\n",
        "    pivot = arr[high]\n",
        "    i = low - 1\n",
        "    for j in range(low, high):\n",
        "        if arr[j] <= pivot:\n",
        "            i += 1\n",
        "            arr[i], arr[j] = arr[j], arr[i]\n",
        "    arr[i + 1], arr[high] = arr[high], arr[i + 1]\n",
        "    return i + 1\n",
        "def randomized_select(arr, low, high, k):\n",
        "    if low == high:\n",
        "        return arr[low]\n",
        "    pivot_index = randomized_partition(arr, low, high)\n",
        "    order = pivot_index - low + 1\n",
        "    if k == order:\n",
        "        return arr[pivot_index]\n",
        "    elif k < order:\n",
        "        return randomized_select(arr, low, pivot_index - 1, k)\n",
        "    else:\n",
        "        return randomized_select(arr, pivot_index + 1, high, k - order)\n",
        "def find_kth_smallest(arr, k):\n",
        "    if k < 1 or k > len(arr):\n",
        "        raise ValueError(\"k is out of bounds\")\n",
        "    return randomized_select(arr.copy(), 0, len(arr) - 1, k)\n",
        "if __name__ == \"__main__\":\n",
        "    array = [12, 3, 5, 7, 4, 19, 26]\n",
        "    k = 3\n",
        "    print(f\"The {k}rd smallest element is {find_kth_smallest(array, k)}\")\n"
      ]
    }
  ]
}
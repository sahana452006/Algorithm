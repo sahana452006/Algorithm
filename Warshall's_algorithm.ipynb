{
  "nbformat": 4,
  "nbformat_minor": 0,
  "metadata": {
    "colab": {
      "provenance": [],
      "authorship_tag": "ABX9TyNhEqZ3JVZeFBymnjd4kuRx",
      "include_colab_link": true
    },
    "kernelspec": {
      "name": "python3",
      "display_name": "Python 3"
    },
    "language_info": {
      "name": "python"
    }
  },
  "cells": [
    {
      "cell_type": "markdown",
      "metadata": {
        "id": "view-in-github",
        "colab_type": "text"
      },
      "source": [
        "<a href=\"https://colab.research.google.com/github/sahana452006/Algorithm/blob/main/Warshall's_algorithm.ipynb\" target=\"_parent\"><img src=\"https://colab.research.google.com/assets/colab-badge.svg\" alt=\"Open In Colab\"/></a>"
      ]
    },
    {
      "cell_type": "code",
      "execution_count": 1,
      "metadata": {
        "colab": {
          "base_uri": "https://localhost:8080/"
        },
        "id": "mure3hYiOm_L",
        "outputId": "e8d950ab-3bb3-4a0e-a786-052398bdae0d"
      },
      "outputs": [
        {
          "output_type": "stream",
          "name": "stdout",
          "text": [
            "Transitive Closure of the given graph:\n",
            "1 1 1 1 \n",
            "0 1 1 1 \n",
            "0 0 1 1 \n",
            "0 0 0 1 \n"
          ]
        }
      ],
      "source": [
        "def warshall_algorithm(graph):\n",
        "    n = len(graph)\n",
        "    closure = [row[:] for row in graph]\n",
        "    for k in range(n):\n",
        "        for i in range(n):\n",
        "            for j in range(n):\n",
        "                closure[i][j] = closure[i][j] or (closure[i][k] and closure[k][j])\n",
        "    return closure\n",
        "def print_closure(closure):\n",
        "    print(\"Transitive Closure of the given graph:\")\n",
        "    for row in closure:\n",
        "        for val in row:\n",
        "            print(val, end=\" \")\n",
        "        print()\n",
        "def main():\n",
        "    graph = [[1, 1, 0, 0],\n",
        "        [0, 1, 1, 0],\n",
        "        [0, 0, 1, 1],\n",
        "        [0, 0, 0, 1]]\n",
        "    closure = warshall_algorithm(graph)\n",
        "    print_closure(closure)\n",
        "if __name__ == \"__main__\":\n",
        "    main()\n"
      ]
    }
  ]
}
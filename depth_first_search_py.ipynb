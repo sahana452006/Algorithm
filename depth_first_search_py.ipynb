{
  "nbformat": 4,
  "nbformat_minor": 0,
  "metadata": {
    "colab": {
      "provenance": [],
      "authorship_tag": "ABX9TyOgpSVsMIo8pXSERUs6LQN7",
      "include_colab_link": true
    },
    "kernelspec": {
      "name": "python3",
      "display_name": "Python 3"
    },
    "language_info": {
      "name": "python"
    }
  },
  "cells": [
    {
      "cell_type": "markdown",
      "metadata": {
        "id": "view-in-github",
        "colab_type": "text"
      },
      "source": [
        "<a href=\"https://colab.research.google.com/github/sahana452006/Algorithm/blob/main/depth_first_search_py.ipynb\" target=\"_parent\"><img src=\"https://colab.research.google.com/assets/colab-badge.svg\" alt=\"Open In Colab\"/></a>"
      ]
    },
    {
      "cell_type": "code",
      "execution_count": null,
      "metadata": {
        "colab": {
          "base_uri": "https://localhost:8080/"
        },
        "id": "-feEu_sREIzv",
        "outputId": "eafc67cb-70bf-4339-f295-b7c3b2ea13dc"
      },
      "outputs": [
        {
          "output_type": "stream",
          "name": "stdout",
          "text": [
            "Following is Depth First Traversal (starting from vertex 2)\n",
            "2 0 1 3 "
          ]
        }
      ],
      "source": [
        "from collections import defaultdict\n",
        "class Graph:\n",
        "  def __init__(self):\n",
        "    self.graph=defaultdict(list)\n",
        "  def addEdge(self,u,v):\n",
        "    self.graph[u].append(v)\n",
        "  def DFSUtil(self, v, visited):\n",
        "    visited.add(v)\n",
        "    print(v, end=' ')\n",
        "    for neighbour in self.graph[v]:\n",
        "      if neighbour not in visited:\n",
        "        self.DFSUtil(neighbour,visited)\n",
        "  def DFS(self, v):\n",
        "    visited=set()\n",
        "    self.DFSUtil(v, visited)\n",
        "if __name__==\"__main__\":\n",
        "  g = Graph()\n",
        "  g.addEdge(0,1)\n",
        "  g.addEdge(0,2)\n",
        "  g.addEdge(1,2)\n",
        "  g.addEdge(2,0)\n",
        "  g.addEdge(2,3)\n",
        "  g.addEdge(3,3)\n",
        "  print(\"Following is Depth First Traversal (starting from vertex 2)\" )\n",
        "  g.DFS(2)\n"
      ]
    }
  ]
}